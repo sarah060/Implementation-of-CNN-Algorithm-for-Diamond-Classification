{
 "cells": [
  {
   "cell_type": "code",
   "execution_count": 2,
   "id": "b3c0969e",
   "metadata": {},
   "outputs": [],
   "source": [
    "import pandas as pd\n",
    "from sklearn.preprocessing import StandardScaler\n",
    "from sklearn.ensemble import RandomForestClassifier\n",
    "from sklearn.model_selection import train_test_split\n",
    "import pickle"
   ]
  },
  {
   "cell_type": "code",
   "execution_count": 4,
   "id": "fde96ed7",
   "metadata": {},
   "outputs": [
    {
     "name": "stdout",
     "output_type": "stream",
     "text": [
      "C:\\Users\\ASUS\n"
     ]
    }
   ],
   "source": [
    "import os\n",
    "print(os.getcwd())"
   ]
  },
  {
   "cell_type": "code",
   "execution_count": 7,
   "id": "7eb1d366",
   "metadata": {},
   "outputs": [],
   "source": [
    "import pandas as pd\n",
    "\n",
    "df = pd.read_csv(\"diamond_data.csv\")"
   ]
  },
  {
   "cell_type": "code",
   "execution_count": 11,
   "id": "8575382d",
   "metadata": {},
   "outputs": [
    {
     "name": "stdout",
     "output_type": "stream",
     "text": [
      "                       path_to_img stock_number    shape  carat clarity  \\\n",
      "0  web_scraped/cushion/2106452.jpg      2106452  cushion   0.55     SI2   \n",
      "1  web_scraped/cushion/2042329.jpg      2042329  cushion   0.52     SI2   \n",
      "2  web_scraped/cushion/2055268.jpg      2055268  cushion   0.50     SI1   \n",
      "3  web_scraped/cushion/2128779.jpg      2128779  cushion   0.50     VS2   \n",
      "4  web_scraped/cushion/2103991.jpg      2103991  cushion   0.51     SI1   \n",
      "\n",
      "  colour cut polish symmetry fluorescence  lab  length  width  depth  \n",
      "0      N  VG     EX       VG            N  GIA    4.56   4.44   3.09  \n",
      "1    Y-Z  EX     EX       VG            F  GIA    4.40   4.31   2.99  \n",
      "2      L  VG     EX       VG            N  GIA    4.87   4.19   2.89  \n",
      "3      M  EX     EX       VG            F  GIA    4.73   4.28   2.84  \n",
      "4      M  EX     EX       VG            N  GIA    4.47   4.44   3.05  \n"
     ]
    }
   ],
   "source": [
    "print(df.head())"
   ]
  },
  {
   "cell_type": "code",
   "execution_count": 12,
   "id": "9167aa9a",
   "metadata": {},
   "outputs": [
    {
     "name": "stdout",
     "output_type": "stream",
     "text": [
      "Index(['path_to_img', 'stock_number', 'shape', 'carat', 'clarity', 'colour',\n",
      "       'cut', 'polish', 'symmetry', 'fluorescence', 'lab', 'length', 'width',\n",
      "       'depth'],\n",
      "      dtype='object')\n"
     ]
    }
   ],
   "source": [
    "print(df.columns)"
   ]
  },
  {
   "cell_type": "code",
   "execution_count": 20,
   "id": "192fac32",
   "metadata": {},
   "outputs": [],
   "source": [
    "X = df[['path_to_img', 'stock_number', 'shape', 'carat', 'clarity','cut', 'polish', 'symmetry', 'fluorescence', 'lab', 'length', 'width', 'depth']]\n",
    "Y = df['colour']"
   ]
  },
  {
   "cell_type": "code",
   "execution_count": 22,
   "id": "bf1cc81b",
   "metadata": {},
   "outputs": [],
   "source": [
    "from sklearn.model_selection import train_test_split\n",
    "\n",
    "\n",
    "X_train, X_test, y_train, y_test = train_test_split(X, Y, test_size=0.2, random_state=4)\n"
   ]
  },
  {
   "cell_type": "code",
   "execution_count": 24,
   "id": "83238997",
   "metadata": {},
   "outputs": [],
   "source": [
    "from sklearn.preprocessing import StandardScaler\n",
    "\n",
    "# Assuming X_train and X_test are DataFrames with numerical columns\n",
    "\n",
    "# List of numerical column names\n",
    "numerical_columns = ['carat', 'length', 'width', 'depth']\n",
    "\n",
    "# Selecting only numerical columns for scaling\n",
    "X_train_numeric = X_train[numerical_columns]\n",
    "X_test_numeric = X_test[numerical_columns]\n",
    "\n",
    "# Standard scaling\n",
    "sc = StandardScaler()\n",
    "X_train_scaled = sc.fit_transform(X_train_numeric)\n",
    "X_test_scaled = sc.transform(X_test_numeric)\n",
    "\n",
    "# Replacing the scaled values back into the original DataFrames\n",
    "X_train[numerical_columns] = X_train_scaled\n",
    "X_test[numerical_columns] = X_test_scaled\n"
   ]
  },
  {
   "cell_type": "code",
   "execution_count": 25,
   "id": "820681a3",
   "metadata": {},
   "outputs": [],
   "source": [
    "classifier = RandomForestClassifier()"
   ]
  },
  {
   "cell_type": "code",
   "execution_count": 33,
   "id": "97a6d58b",
   "metadata": {},
   "outputs": [],
   "source": [
    "X_train_numeric = X_train.drop(['stock_number'], axis=1)\n",
    "X_test_numeric = X_test.drop(['stock_number'], axis=1)"
   ]
  },
  {
   "cell_type": "code",
   "execution_count": 34,
   "id": "3cae37c2",
   "metadata": {},
   "outputs": [],
   "source": [
    "# Example: Extract numeric values from 'stock_number'\n",
    "X_train['stock_number'] = X_train['stock_number'].str.extract('(\\d+)').astype(float)\n",
    "X_test['stock_number'] = X_test['stock_number'].str.extract('(\\d+)').astype(float)"
   ]
  },
  {
   "cell_type": "code",
   "execution_count": 35,
   "id": "aa22e170",
   "metadata": {},
   "outputs": [],
   "source": [
    "pickle.dump(classifier, open(\"model.pkl\",'wb'))"
   ]
  }
 ],
 "metadata": {
  "kernelspec": {
   "display_name": "Python 3 (ipykernel)",
   "language": "python",
   "name": "python3"
  },
  "language_info": {
   "codemirror_mode": {
    "name": "ipython",
    "version": 3
   },
   "file_extension": ".py",
   "mimetype": "text/x-python",
   "name": "python",
   "nbconvert_exporter": "python",
   "pygments_lexer": "ipython3",
   "version": "3.11.4"
  }
 },
 "nbformat": 4,
 "nbformat_minor": 5
}
